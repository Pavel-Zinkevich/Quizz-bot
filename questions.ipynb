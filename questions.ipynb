{
  "nbformat": 4,
  "nbformat_minor": 0,
  "metadata": {
    "colab": {
      "provenance": [],
      "mount_file_id": "1_WI1GRWBvAMBwzlZgZRDo4pv0Nwp3jsQ",
      "authorship_tag": "ABX9TyPSZc5gJ9B/PNlxx7MAQNuT",
      "include_colab_link": true
    },
    "kernelspec": {
      "name": "python3",
      "display_name": "Python 3"
    },
    "language_info": {
      "name": "python"
    }
  },
  "cells": [
    {
      "cell_type": "markdown",
      "metadata": {
        "id": "view-in-github",
        "colab_type": "text"
      },
      "source": [
        "<a href=\"https://colab.research.google.com/github/Pavel-Zinkevich/Quizz-bot/blob/main/questions.ipynb\" target=\"_parent\"><img src=\"https://colab.research.google.com/assets/colab-badge.svg\" alt=\"Open In Colab\"/></a>"
      ]
    },
    {
      "cell_type": "code",
      "execution_count": 1,
      "metadata": {
        "id": "rMY2JW8rdASd"
      },
      "outputs": [],
      "source": [
        "quiz_data = [\n",
        "    {\n",
        "        'question': 'Что такое Python?',\n",
        "        'options': ['Язык программирования', 'Тип данных', 'Музыкальный инструмент', 'Змея на английском'],\n",
        "        'correct_option': 0\n",
        "    },\n",
        "    {\n",
        "        'question': 'Какой тип данных используется для хранения целых чисел?',\n",
        "        'options': ['int', 'float', 'str', 'natural'],\n",
        "        'correct_option': 0\n",
        "    },\n",
        "    {\n",
        "        'question': 'Какой из этих операторов используется для деления в Python?',\n",
        "        'options': ['/', '//', '%', '**'],\n",
        "        'correct_option': 0\n",
        "    },\n",
        "    {\n",
        "        'question': 'Какой из этих типов данных является неизменяемым в Python?',\n",
        "        'options': ['list', 'tuple', 'set', 'dict'],\n",
        "        'correct_option': 1\n",
        "    },\n",
        "    {\n",
        "        'question': 'Что будет результатом выполнения выражения 5 // 2?',\n",
        "        'options': ['2', '2.5', '3', '3.0'],\n",
        "        'correct_option': 0\n",
        "    },\n",
        "    {\n",
        "        'question': 'Как называется встроенная функция для вывода текста на экран?',\n",
        "        'options': ['output()', 'print()', 'show()', 'echo()'],\n",
        "        'correct_option': 1\n",
        "    },\n",
        "    {\n",
        "        'question': 'Какой оператор используется для проверки равенства в Python?',\n",
        "        'options': ['=', '==', '===', ':='],\n",
        "        'correct_option': 1\n",
        "    },\n",
        "    {\n",
        "        'question': 'Какой из этих типов данных является изменяемым в Python?',\n",
        "        'options': ['tuple', 'list', 'str', 'int'],\n",
        "        'correct_option': 1\n",
        "    },\n",
        "    {\n",
        "        'question': 'Как в Python создать пустой словарь?',\n",
        "        'options': ['{}', '[]', '()', 'dict()'],\n",
        "        'correct_option': 3\n",
        "    },\n",
        "    {\n",
        "        'question': 'Какой метод используется для извлечения подстроки из строки в Python?',\n",
        "        'options': ['split()', 'slice()', 'substring()', 'find()'],\n",
        "        'correct_option': 1\n",
        "    }\n",
        "]\n"
      ]
    }
  ]
}