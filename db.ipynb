{
  "cells": [
    {
      "cell_type": "markdown",
      "metadata": {
        "id": "view-in-github",
        "colab_type": "text"
      },
      "source": [
        "<a href=\"https://colab.research.google.com/github/Pavel-Zinkevich/Quizz-bot/blob/main/db.ipynb\" target=\"_parent\"><img src=\"https://colab.research.google.com/assets/colab-badge.svg\" alt=\"Open In Colab\"/></a>"
      ]
    },
    {
      "cell_type": "code",
      "execution_count": null,
      "metadata": {
        "colab": {
          "background_save": true
        },
        "id": "veRQXJR7plEr",
        "outputId": "4e3a84ad-2919-4b18-b1ad-20914bbab04d"
      },
      "outputs": [
        {
          "name": "stdout",
          "output_type": "stream",
          "text": [
            "Mounted at /content/drive\n"
          ]
        }
      ],
      "source": [
        "from google.colab import drive\n",
        "drive.mount('/content/drive')\n",
        "folder_path = \"/content/drive/MyDrive/Colab Notebooks/Quizz_bot/\""
      ]
    },
    {
      "cell_type": "code",
      "execution_count": null,
      "metadata": {
        "colab": {
          "background_save": true
        },
        "id": "SLgYDS1wpxOT",
        "outputId": "83bd3109-d3e5-401d-aa7d-8df04d44fcf7"
      },
      "outputs": [
        {
          "name": "stdout",
          "output_type": "stream",
          "text": [
            "Collecting aiosqlite\n",
            "  Downloading aiosqlite-0.21.0-py3-none-any.whl.metadata (4.3 kB)\n",
            "Requirement already satisfied: typing_extensions>=4.0 in /usr/local/lib/python3.12/dist-packages (from aiosqlite) (4.15.0)\n",
            "Downloading aiosqlite-0.21.0-py3-none-any.whl (15 kB)\n",
            "Installing collected packages: aiosqlite\n",
            "Successfully installed aiosqlite-0.21.0\n"
          ]
        }
      ],
      "source": [
        "!pip install aiosqlite"
      ]
    },
    {
      "cell_type": "code",
      "execution_count": null,
      "metadata": {
        "colab": {
          "background_save": true
        },
        "id": "JbhamT0EpgUA"
      },
      "outputs": [],
      "source": [
        "%run \"/content/drive/MyDrive/Colab Notebooks/Quizz_bot/config.ipynb\""
      ]
    },
    {
      "cell_type": "code",
      "execution_count": null,
      "metadata": {
        "colab": {
          "background_save": true
        },
        "id": "3pizpQ_Zeei_"
      },
      "outputs": [],
      "source": [
        "import aiosqlite\n",
        "\n",
        "\n",
        "async def get_quiz_index(user_id):\n",
        "    async with aiosqlite.connect(DB_NAME) as db:\n",
        "        async with db.execute('SELECT question_index FROM quiz_state WHERE user_id = (?)', (user_id,)) as cursor:\n",
        "            result = await cursor.fetchone()\n",
        "            return result[0] if result else 0\n",
        "\n",
        "async def get_quiz_score(user_id):\n",
        "    async with aiosqlite.connect(DB_NAME) as db:\n",
        "        async with db.execute('SELECT score FROM quiz_state WHERE user_id = ?', (user_id,)) as cursor:\n",
        "            result = await cursor.fetchone()\n",
        "            if result:\n",
        "                return result[0]\n",
        "            else:\n",
        "                # Если записи нет, создаем запись с начальным значением 0\n",
        "                await db.execute('INSERT INTO quiz_state (user_id, score, question_index) VALUES (?, ?, ?)', (user_id, 0, 0))\n",
        "                await db.commit()\n",
        "                return 0\n",
        "\n",
        "\n",
        "async def update_score(user_id, score):\n",
        "    async with aiosqlite.connect(DB_NAME) as db:\n",
        "        print(f\"Updating score for user {user_id} to {score}\")  # Логируем обновление баллов\n",
        "        await db.execute('''\n",
        "        INSERT OR REPLACE INTO quiz_state (user_id, score) VALUES (?, ?)\n",
        "        ''', (user_id, score))\n",
        "        await db.commit()\n",
        "\n",
        "\n",
        "\n",
        "async def update_quiz_index(user_id, index):\n",
        "    async with aiosqlite.connect(DB_NAME) as db:\n",
        "        # Используем UPDATE для обновления записи с заданным user_id\n",
        "        await db.execute('''\n",
        "            UPDATE quiz_state\n",
        "            SET question_index = ?\n",
        "            WHERE user_id = ?\n",
        "        ''', (index, user_id))\n",
        "        await db.commit()\n",
        "\n",
        "\n",
        "\n",
        "\n",
        "async def create_table():\n",
        "    async with aiosqlite.connect(DB_NAME) as db:\n",
        "        await db.execute('''\n",
        "        CREATE TABLE IF NOT EXISTS quiz_state (\n",
        "            user_id INTEGER PRIMARY KEY,\n",
        "            question_index INTEGER,\n",
        "            score INTEGER DEFAULT 0\n",
        "        )\n",
        "        ''')\n",
        "        await db.commit()\n"
      ]
    }
  ],
  "metadata": {
    "accelerator": "GPU",
    "colab": {
      "gpuType": "T4",
      "provenance": [],
      "authorship_tag": "ABX9TyMa4Q+TSvoiLbR1bpTBMLkV",
      "include_colab_link": true
    },
    "kernelspec": {
      "display_name": "Python 3",
      "name": "python3"
    },
    "language_info": {
      "name": "python"
    }
  },
  "nbformat": 4,
  "nbformat_minor": 0
}