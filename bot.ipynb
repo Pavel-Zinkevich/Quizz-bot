{
  "nbformat": 4,
  "nbformat_minor": 0,
  "metadata": {
    "colab": {
      "provenance": [],
      "gpuType": "T4",
      "authorship_tag": "ABX9TyNwdqsVGqrrVRgU5GvWn6Xn",
      "include_colab_link": true
    },
    "kernelspec": {
      "name": "python3",
      "display_name": "Python 3"
    },
    "language_info": {
      "name": "python"
    },
    "accelerator": "GPU"
  },
  "cells": [
    {
      "cell_type": "markdown",
      "metadata": {
        "id": "view-in-github",
        "colab_type": "text"
      },
      "source": [
        "<a href=\"https://colab.research.google.com/github/Pavel-Zinkevich/Quizz-bot/blob/main/bot.ipynb\" target=\"_parent\"><img src=\"https://colab.research.google.com/assets/colab-badge.svg\" alt=\"Open In Colab\"/></a>"
      ]
    },
    {
      "cell_type": "code",
      "source": [
        "!pip install aiogram"
      ],
      "metadata": {
        "id": "Xl5yCpP1gGeJ",
        "colab": {
          "base_uri": "https://localhost:8080/"
        },
        "outputId": "a91aea48-7d32-4c9d-b4c2-0fa213f1d471"
      },
      "execution_count": 2,
      "outputs": [
        {
          "output_type": "stream",
          "name": "stdout",
          "text": [
            "Collecting aiogram\n",
            "  Downloading aiogram-3.22.0-py3-none-any.whl.metadata (7.7 kB)\n",
            "Requirement already satisfied: aiofiles<24.2,>=23.2.1 in /usr/local/lib/python3.12/dist-packages (from aiogram) (24.1.0)\n",
            "Requirement already satisfied: aiohttp<3.13,>=3.9.0 in /usr/local/lib/python3.12/dist-packages (from aiogram) (3.12.15)\n",
            "Requirement already satisfied: certifi>=2023.7.22 in /usr/local/lib/python3.12/dist-packages (from aiogram) (2025.8.3)\n",
            "Collecting magic-filter<1.1,>=1.0.12 (from aiogram)\n",
            "  Downloading magic_filter-1.0.12-py3-none-any.whl.metadata (1.5 kB)\n",
            "Requirement already satisfied: pydantic<2.12,>=2.4.1 in /usr/local/lib/python3.12/dist-packages (from aiogram) (2.11.7)\n",
            "Requirement already satisfied: typing-extensions<=5.0,>=4.7.0 in /usr/local/lib/python3.12/dist-packages (from aiogram) (4.15.0)\n",
            "Requirement already satisfied: aiohappyeyeballs>=2.5.0 in /usr/local/lib/python3.12/dist-packages (from aiohttp<3.13,>=3.9.0->aiogram) (2.6.1)\n",
            "Requirement already satisfied: aiosignal>=1.4.0 in /usr/local/lib/python3.12/dist-packages (from aiohttp<3.13,>=3.9.0->aiogram) (1.4.0)\n",
            "Requirement already satisfied: attrs>=17.3.0 in /usr/local/lib/python3.12/dist-packages (from aiohttp<3.13,>=3.9.0->aiogram) (25.3.0)\n",
            "Requirement already satisfied: frozenlist>=1.1.1 in /usr/local/lib/python3.12/dist-packages (from aiohttp<3.13,>=3.9.0->aiogram) (1.7.0)\n",
            "Requirement already satisfied: multidict<7.0,>=4.5 in /usr/local/lib/python3.12/dist-packages (from aiohttp<3.13,>=3.9.0->aiogram) (6.6.4)\n",
            "Requirement already satisfied: propcache>=0.2.0 in /usr/local/lib/python3.12/dist-packages (from aiohttp<3.13,>=3.9.0->aiogram) (0.3.2)\n",
            "Requirement already satisfied: yarl<2.0,>=1.17.0 in /usr/local/lib/python3.12/dist-packages (from aiohttp<3.13,>=3.9.0->aiogram) (1.20.1)\n",
            "Requirement already satisfied: annotated-types>=0.6.0 in /usr/local/lib/python3.12/dist-packages (from pydantic<2.12,>=2.4.1->aiogram) (0.7.0)\n",
            "Requirement already satisfied: pydantic-core==2.33.2 in /usr/local/lib/python3.12/dist-packages (from pydantic<2.12,>=2.4.1->aiogram) (2.33.2)\n",
            "Requirement already satisfied: typing-inspection>=0.4.0 in /usr/local/lib/python3.12/dist-packages (from pydantic<2.12,>=2.4.1->aiogram) (0.4.1)\n",
            "Requirement already satisfied: idna>=2.0 in /usr/local/lib/python3.12/dist-packages (from yarl<2.0,>=1.17.0->aiohttp<3.13,>=3.9.0->aiogram) (3.10)\n",
            "Downloading aiogram-3.22.0-py3-none-any.whl (698 kB)\n",
            "\u001b[2K   \u001b[90m━━━━━━━━━━━━━━━━━━━━━━━━━━━━━━━━━━━━━━━━\u001b[0m \u001b[32m698.2/698.2 kB\u001b[0m \u001b[31m14.9 MB/s\u001b[0m eta \u001b[36m0:00:00\u001b[0m\n",
            "\u001b[?25hDownloading magic_filter-1.0.12-py3-none-any.whl (11 kB)\n",
            "Installing collected packages: magic-filter, aiogram\n",
            "Successfully installed aiogram-3.22.0 magic-filter-1.0.12\n"
          ]
        }
      ]
    },
    {
      "cell_type": "code",
      "source": [
        "!pip install aiosqlite"
      ],
      "metadata": {
        "id": "RMx7byfSgISH",
        "colab": {
          "base_uri": "https://localhost:8080/"
        },
        "outputId": "81910e8d-8502-4711-e183-6fd92d5e4d3d"
      },
      "execution_count": 3,
      "outputs": [
        {
          "output_type": "stream",
          "name": "stdout",
          "text": [
            "Collecting aiosqlite\n",
            "  Downloading aiosqlite-0.21.0-py3-none-any.whl.metadata (4.3 kB)\n",
            "Requirement already satisfied: typing_extensions>=4.0 in /usr/local/lib/python3.12/dist-packages (from aiosqlite) (4.15.0)\n",
            "Downloading aiosqlite-0.21.0-py3-none-any.whl (15 kB)\n",
            "Installing collected packages: aiosqlite\n",
            "Successfully installed aiosqlite-0.21.0\n"
          ]
        }
      ]
    },
    {
      "cell_type": "code",
      "source": [
        "# Установим библиотеку nest_asyncio\n",
        "!pip install nest_asyncio\n",
        "import nest_asyncio\n",
        "nest_asyncio.apply()"
      ],
      "metadata": {
        "id": "ElhYTEgdgI3O",
        "colab": {
          "base_uri": "https://localhost:8080/"
        },
        "outputId": "09251cc3-90ca-4ddd-e76c-ca2aa0cddfa7"
      },
      "execution_count": 4,
      "outputs": [
        {
          "output_type": "stream",
          "name": "stdout",
          "text": [
            "Requirement already satisfied: nest_asyncio in /usr/local/lib/python3.12/dist-packages (1.6.0)\n"
          ]
        }
      ]
    },
    {
      "cell_type": "code",
      "source": [
        "from google.colab import drive\n",
        "drive.mount('/content/drive')\n",
        "folder_path = \"/content/drive/MyDrive/Colab Notebooks/Quizz_bot/\""
      ],
      "metadata": {
        "id": "qC1IFi8WndXy",
        "colab": {
          "base_uri": "https://localhost:8080/"
        },
        "outputId": "dbc15312-e3e6-476c-cdaf-aebc620b3dab"
      },
      "execution_count": 5,
      "outputs": [
        {
          "output_type": "stream",
          "name": "stdout",
          "text": [
            "Mounted at /content/drive\n"
          ]
        }
      ]
    },
    {
      "cell_type": "code",
      "source": [
        "import sys\n",
        "sys.path.append('/content/drive/MyDrive/Colab Notebooks/Quizz_bot')"
      ],
      "metadata": {
        "id": "Inuot1_DolJ_"
      },
      "execution_count": 6,
      "outputs": []
    },
    {
      "cell_type": "code",
      "source": [
        "%run \"/content/drive/MyDrive/Colab Notebooks/Quizz_bot/config.ipynb\"\n",
        "%run \"/content/drive/MyDrive/Colab Notebooks/Quizz_bot/db.ipynb\"\n",
        "%run \"/content/drive/MyDrive/Colab Notebooks/Quizz_bot/questions.ipynb\"\n"
      ],
      "metadata": {
        "id": "m47BP7i9i7Dj",
        "colab": {
          "base_uri": "https://localhost:8080/"
        },
        "outputId": "41b287c5-ee9b-485f-b9d2-6d0a45de5c40"
      },
      "execution_count": 7,
      "outputs": [
        {
          "output_type": "stream",
          "name": "stdout",
          "text": [
            "Drive already mounted at /content/drive; to attempt to forcibly remount, call drive.mount(\"/content/drive\", force_remount=True).\n",
            "Requirement already satisfied: aiosqlite in /usr/local/lib/python3.12/dist-packages (0.21.0)\n",
            "Requirement already satisfied: typing_extensions>=4.0 in /usr/local/lib/python3.12/dist-packages (from aiosqlite) (4.15.0)\n"
          ]
        }
      ]
    },
    {
      "cell_type": "code",
      "source": [
        "import aiosqlite\n",
        "\n",
        "async def check_table_structure():\n",
        "    async with aiosqlite.connect(DB_NAME) as db:\n",
        "        # Выполнение PRAGMA для получения информации о таблице\n",
        "        async with db.execute('PRAGMA table_info(quiz_state)') as cursor:\n",
        "            columns = await cursor.fetchall()  # Получаем все данные из результата запроса\n",
        "            if columns:\n",
        "                print(\"Структура таблицы:\")\n",
        "                for column in columns:\n",
        "                    print(f\"Column ID: {column[0]}, Name: {column[1]}, Type: {column[2]}, Not Null: {column[3]}, Default: {column[4]}, Primary Key: {column[5]}\")\n",
        "            else:\n",
        "                print(\"Таблица не существует или ошибка в названии таблицы.\")\n",
        "async def add_score_column():\n",
        "    async with aiosqlite.connect(DB_NAME) as db:\n",
        "        await db.execute('''\n",
        "        ALTER TABLE quiz_state ADD COLUMN score INTEGER DEFAULT 0\n",
        "        ''')\n",
        "        await db.commit()\n",
        "\n"
      ],
      "metadata": {
        "id": "-vHs42BP81tZ"
      },
      "execution_count": 8,
      "outputs": []
    },
    {
      "cell_type": "code",
      "source": [
        "async def main():\n",
        "    await check_table_structure()\n",
        "\n",
        "if __name__ == \"__main__\":\n",
        "    import asyncio\n",
        "    asyncio.run(main())\n"
      ],
      "metadata": {
        "colab": {
          "base_uri": "https://localhost:8080/"
        },
        "id": "BAAKvHMo9QLh",
        "outputId": "2d44239e-dbb3-420d-8665-717f8629d4a0"
      },
      "execution_count": 9,
      "outputs": [
        {
          "output_type": "stream",
          "name": "stdout",
          "text": [
            "Таблица не существует или ошибка в названии таблицы.\n"
          ]
        }
      ]
    },
    {
      "cell_type": "code",
      "execution_count": 15,
      "metadata": {
        "id": "YY6ThyX7fVAP",
        "colab": {
          "base_uri": "https://localhost:8080/"
        },
        "outputId": "cf5dad36-de10-4433-e8df-3423a16c6c10"
      },
      "outputs": [
        {
          "output_type": "stream",
          "name": "stderr",
          "text": [
            "2025-08-30 14:06:30,233 [INFO] aiogram.dispatcher: Start polling\n",
            "2025-08-30 14:06:30,658 [INFO] aiogram.dispatcher: Run polling for bot @miziquizzy_bot id=8325122124 - 'Quizz bot'\n",
            "2025-08-30 14:06:34,073 [INFO] aiogram.event: Update id=244226154 is handled. Duration 625 ms by bot id=8325122124\n"
          ]
        },
        {
          "output_type": "stream",
          "name": "stdout",
          "text": [
            "Updating score for user 1402296267 to 5\n"
          ]
        },
        {
          "output_type": "stream",
          "name": "stderr",
          "text": [
            "2025-08-30 14:06:37,744 [INFO] aiogram.event: Update id=244226155 is handled. Duration 2708 ms by bot id=8325122124\n",
            "2025-08-30 14:06:42,872 [INFO] aiogram.event: Update id=244226156 is handled. Duration 2726 ms by bot id=8325122124\n",
            "2025-08-30 14:06:47,851 [INFO] aiogram.event: Update id=244226157 is handled. Duration 2508 ms by bot id=8325122124\n"
          ]
        },
        {
          "output_type": "stream",
          "name": "stdout",
          "text": [
            "Error deleting message: Telegram server says - Bad Request: message to delete not found\n",
            "Error deleting message: Telegram server says - Bad Request: message to delete not found\n",
            "Error deleting message: Telegram server says - Bad Request: message to delete not found\n",
            "Error deleting message: Telegram server says - Bad Request: message to delete not found\n",
            "Error deleting message: Telegram server says - Bad Request: message to delete not found\n",
            "Error deleting message: Telegram server says - Bad Request: message to delete not found\n",
            "Error deleting message: Telegram server says - Bad Request: message to delete not found\n",
            "Error deleting message: Telegram server says - Bad Request: message to delete not found\n",
            "Error deleting message: Telegram server says - Bad Request: message to delete not found\n",
            "Error deleting message: Telegram server says - Bad Request: message to delete not found\n",
            "Error deleting message: Telegram server says - Bad Request: message to delete not found\n",
            "Error deleting message: Telegram server says - Bad Request: message to delete not found\n",
            "Error deleting message: Telegram server says - Bad Request: message to delete not found\n",
            "Error deleting message: Telegram server says - Bad Request: message to delete not found\n",
            "Error deleting message: Telegram server says - Bad Request: message to delete not found\n",
            "Error deleting message: Telegram server says - Bad Request: message to delete not found\n",
            "Error deleting message: Telegram server says - Bad Request: message to delete not found\n",
            "Error deleting message: Telegram server says - Bad Request: message to delete not found\n",
            "Error deleting message: Telegram server says - Bad Request: message to delete not found\n",
            "Error deleting message: Telegram server says - Bad Request: message to delete not found\n",
            "Error deleting message: Telegram server says - Bad Request: message to delete not found\n",
            "Error deleting message: Telegram server says - Bad Request: message to delete not found\n",
            "Error deleting message: Telegram server says - Bad Request: message to delete not found\n",
            "Error deleting message: Telegram server says - Bad Request: message to delete not found\n",
            "Error deleting message: Telegram server says - Bad Request: message to delete not found\n",
            "Error deleting message: Telegram server says - Bad Request: message to delete not found\n",
            "Error deleting message: Telegram server says - Bad Request: message to delete not found\n",
            "Error deleting message: Telegram server says - Bad Request: message to delete not found\n",
            "Error deleting message: Telegram server says - Bad Request: message to delete not found\n",
            "Error deleting message: Telegram server says - Bad Request: message to delete not found\n",
            "Error deleting message: Telegram server says - Bad Request: message to delete not found\n",
            "Error deleting message: Telegram server says - Bad Request: message to delete not found\n",
            "Error deleting message: Telegram server says - Bad Request: message to delete not found\n",
            "Error deleting message: Telegram server says - Bad Request: message to delete not found\n",
            "Error deleting message: Telegram server says - Bad Request: message to delete not found\n",
            "Error deleting message: Telegram server says - Bad Request: message to delete not found\n",
            "Error deleting message: Telegram server says - Bad Request: message to delete not found\n",
            "Error deleting message: Telegram server says - Bad Request: message to delete not found\n",
            "Error deleting message: Telegram server says - Bad Request: message to delete not found\n",
            "Error deleting message: Telegram server says - Bad Request: message to delete not found\n",
            "Error deleting message: Telegram server says - Bad Request: message to delete not found\n",
            "Error deleting message: Telegram server says - Bad Request: message to delete not found\n",
            "Error deleting message: Telegram server says - Bad Request: message to delete not found\n",
            "Error deleting message: Telegram server says - Bad Request: message to delete not found\n",
            "Error deleting message: Telegram server says - Bad Request: message to delete not found\n",
            "Error deleting message: Telegram server says - Bad Request: message to delete not found\n",
            "Error deleting message: Telegram server says - Bad Request: message to delete not found\n",
            "Error deleting message: Telegram server says - Bad Request: message to delete not found\n",
            "Error deleting message: Telegram server says - Bad Request: message to delete not found\n",
            "Error deleting message: Telegram server says - Bad Request: message to delete not found\n",
            "Error deleting message: Telegram server says - Bad Request: message to delete not found\n",
            "Error deleting message: Telegram server says - Bad Request: message to delete not found\n",
            "Error deleting message: Telegram server says - Bad Request: message to delete not found\n",
            "Error deleting message: Telegram server says - Bad Request: message to delete not found\n",
            "Error deleting message: Telegram server says - Bad Request: message to delete not found\n",
            "Error deleting message: Telegram server says - Bad Request: message to delete not found\n",
            "Error deleting message: Telegram server says - Bad Request: message to delete not found\n",
            "Error deleting message: Telegram server says - Bad Request: message to delete not found\n",
            "Error deleting message: Telegram server says - Bad Request: message to delete not found\n",
            "Error deleting message: Telegram server says - Bad Request: message to delete not found\n",
            "Error deleting message: Telegram server says - Bad Request: message to delete not found\n",
            "Error deleting message: Telegram server says - Bad Request: message to delete not found\n",
            "Error deleting message: Telegram server says - Bad Request: message to delete not found\n",
            "Error deleting message: Telegram server says - Bad Request: message to delete not found\n",
            "Error deleting message: Telegram server says - Bad Request: message to delete not found\n",
            "Error deleting message: Telegram server says - Bad Request: message to delete not found\n",
            "Error deleting message: Telegram server says - Bad Request: message to delete not found\n",
            "Error deleting message: Telegram server says - Bad Request: message to delete not found\n",
            "Error deleting message: Telegram server says - Bad Request: message to delete not found\n",
            "Error deleting message: Telegram server says - Bad Request: message to delete not found\n",
            "Error deleting message: Telegram server says - Bad Request: message to delete not found\n",
            "Error deleting message: Telegram server says - Bad Request: message to delete not found\n"
          ]
        },
        {
          "output_type": "stream",
          "name": "stderr",
          "text": [
            "2025-08-30 14:07:13,178 [INFO] aiogram.event: Update id=244226151 is handled. Duration 130605 ms by bot id=8325122124\n",
            "2025-08-30 14:07:35,317 [WARNING] aiogram.dispatcher: Received SIGINT signal\n",
            "2025-08-30 14:07:35,318 [INFO] aiogram.dispatcher: Polling stopped for bot @miziquizzy_bot id=8325122124 - 'Quizz bot'\n",
            "2025-08-30 14:07:35,319 [INFO] aiogram.dispatcher: Polling stopped\n"
          ]
        }
      ],
      "source": [
        "import asyncio\n",
        "import logging\n",
        "from aiogram import Bot, Dispatcher, types\n",
        "from aiogram.filters.command import Command\n",
        "from aiogram.utils.keyboard import InlineKeyboardBuilder, ReplyKeyboardBuilder\n",
        "from aiogram import F\n",
        "\n",
        "logging.basicConfig(\n",
        "    level=logging.INFO,\n",
        "    format=\"%(asctime)s [%(levelname)s] %(name)s: %(message)s\",\n",
        "    force=True\n",
        ")\n",
        "\n",
        "\n",
        "# Объект бота\n",
        "bot = Bot(token=API_TOKEN)\n",
        "# Диспетчер\n",
        "dp = Dispatcher()\n",
        "\n",
        "def generate_options_keyboard(answer_options, right_answer):\n",
        "    builder = InlineKeyboardBuilder()\n",
        "    for i, option in enumerate(answer_options):\n",
        "        # Используем индекс для callback_data\n",
        "        callback_data = f\"answer_{i}\"  # Только индекс ответа\n",
        "        builder.add(types.InlineKeyboardButton(\n",
        "            text=option,\n",
        "            callback_data=callback_data  # Передаем индекс ответа\n",
        "        ))\n",
        "    builder.adjust(1)\n",
        "    return builder.as_markup()\n",
        "\n",
        "@dp.callback_query(F.data)\n",
        "async def answer_callback(callback: types.CallbackQuery):\n",
        "    global n  # Указываем, что будем работать с глобальной переменной n\n",
        "\n",
        "    # Получаем текущий вопрос из базы данных\n",
        "    current_question_index = await get_quiz_index(callback.from_user.id)\n",
        "    correct_option = quiz_data[current_question_index]['correct_option']  # Индекс правильного ответа\n",
        "    answer_index = int(callback.data.split(\"_\")[1])  # Получаем индекс ответа из callback_data\n",
        "\n",
        "    answer = quiz_data[current_question_index]['options'][answer_index]  # Текст выбранного ответа\n",
        "\n",
        "    # Проверяем, правильный ли это ответ\n",
        "    if answer_index == correct_option:\n",
        "        await callback.message.answer(f\"Вы выбрали: {answer} 🤔\")\n",
        "        await asyncio.sleep(1)\n",
        "        await callback.message.answer(\"Правильно! 🎉😊\")\n",
        "        gif_url = 'https://i.pinimg.com/originals/5b/19/c7/5b19c73485c4010b7b05d7b1428c9192.gif'  # Прямая ссылка на файл GIF\n",
        "        await callback.message.answer_animation(gif_url)\n",
        "        current_score = await get_quiz_score(callback.from_user.id)\n",
        "        current_score += 1  # Увеличиваем балл за правильный ответ\n",
        "        await update_score(callback.from_user.id, current_score)\n",
        "        await asyncio.sleep(1)\n",
        "    else:\n",
        "        await callback.message.answer(f\"Вы выбрали: {answer}\")\n",
        "        await asyncio.sleep(1)\n",
        "        correct_answer = quiz_data[current_question_index]['options'][correct_option]\n",
        "        await callback.message.answer(f\"Неправильно. 😭 Правильный ответ: {correct_answer}\")\n",
        "        await asyncio.sleep(1)\n",
        "\n",
        "    # Переходим к следующему вопросу или завершаем квиз\n",
        "    current_question_index += 1\n",
        "    await update_quiz_index(callback.from_user.id, current_question_index)\n",
        "\n",
        "    if current_question_index < len(quiz_data):\n",
        "        await get_question(callback.message, callback.from_user.id)\n",
        "    else:\n",
        "        await callback.message.answer(\"Это был последний вопрос. Квиз завершен!\")\n",
        "        current_score = await get_quiz_score(callback.from_user.id)\n",
        "        await callback.message.answer(f\"Ваш результат: {current_score} \")\n",
        "        gif_url = 'https://i.pinimg.com/originals/5b/19/c7/5b19c73485c4010b7b05d7b1428c9192.gif'  # Прямая ссылка на файл GIF\n",
        "        await callback.message.answer_animation(gif_url)\n",
        "\n",
        "@dp.message(Command(\"start\"))\n",
        "async def cmd_start(message: types.Message):\n",
        "    builder = ReplyKeyboardBuilder()\n",
        "    builder.add(types.KeyboardButton(text=\"Начать игру\"))\n",
        "    await message.answer(\"Добро пожаловать в квиз боби!\", reply_markup=builder.as_markup(resize_keyboard=True))\n",
        "\n",
        "async def get_question(message, user_id):\n",
        "\n",
        "    current_question_index = await get_quiz_index(user_id)\n",
        "    correct_index = quiz_data[current_question_index]['correct_option']\n",
        "    opts = quiz_data[current_question_index]['options']\n",
        "    kb = generate_options_keyboard(opts, opts[correct_index])\n",
        "    number_of_questions = len(quiz_data)\n",
        "\n",
        "    # Увеличиваем n для следующего вопроса\n",
        "    await message.answer(f\"Вопрос {current_question_index + 1} из {number_of_questions}: {quiz_data[current_question_index]['question']}\", reply_markup=kb)\n",
        "\n",
        "async def new_quiz(message):\n",
        "    user_id = message.from_user.id\n",
        "    current_question_index = 0\n",
        "    await update_quiz_index(user_id, current_question_index)\n",
        "    await get_question(message, user_id)\n",
        "\n",
        "@dp.message(F.text == \"Начать игру\")\n",
        "@dp.message(Command(\"quiz\"))\n",
        "async def cmd_quiz(message: types.Message):\n",
        "    await message.answer(f\"Давайте начнем квиз!\")\n",
        "    await new_quiz(message)\n",
        "\n",
        "async def main():\n",
        "    await create_table()\n",
        "    await dp.start_polling(bot)\n",
        "\n",
        "if __name__ == \"__main__\":\n",
        "    asyncio.run(main())\n"
      ]
    },
    {
      "cell_type": "code",
      "source": [],
      "metadata": {
        "id": "HLISFkgT-1F2"
      },
      "execution_count": 10,
      "outputs": []
    }
  ]
}