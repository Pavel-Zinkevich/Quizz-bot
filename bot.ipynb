{
  "nbformat": 4,
  "nbformat_minor": 0,
  "metadata": {
    "colab": {
      "provenance": [],
      "authorship_tag": "ABX9TyM8t7BTsvX3mDc0MxuCU5NX",
      "include_colab_link": true
    },
    "kernelspec": {
      "name": "python3",
      "display_name": "Python 3"
    },
    "language_info": {
      "name": "python"
    }
  },
  "cells": [
    {
      "cell_type": "markdown",
      "metadata": {
        "id": "view-in-github",
        "colab_type": "text"
      },
      "source": [
        "<a href=\"https://colab.research.google.com/github/Pavel-Zinkevich/Quizz-bot/blob/main/bot.ipynb\" target=\"_parent\"><img src=\"https://colab.research.google.com/assets/colab-badge.svg\" alt=\"Open In Colab\"/></a>"
      ]
    },
    {
      "cell_type": "code",
      "source": [
        "!pip install aiogram"
      ],
      "metadata": {
        "id": "Xl5yCpP1gGeJ",
        "colab": {
          "base_uri": "https://localhost:8080/"
        },
        "outputId": "cbbe7d57-9d47-472c-efe6-f0c4996c92f0"
      },
      "execution_count": 2,
      "outputs": [
        {
          "output_type": "stream",
          "name": "stdout",
          "text": [
            "Collecting aiogram\n",
            "  Downloading aiogram-3.22.0-py3-none-any.whl.metadata (7.7 kB)\n",
            "Requirement already satisfied: aiofiles<24.2,>=23.2.1 in /usr/local/lib/python3.12/dist-packages (from aiogram) (24.1.0)\n",
            "Requirement already satisfied: aiohttp<3.13,>=3.9.0 in /usr/local/lib/python3.12/dist-packages (from aiogram) (3.12.15)\n",
            "Requirement already satisfied: certifi>=2023.7.22 in /usr/local/lib/python3.12/dist-packages (from aiogram) (2025.8.3)\n",
            "Collecting magic-filter<1.1,>=1.0.12 (from aiogram)\n",
            "  Downloading magic_filter-1.0.12-py3-none-any.whl.metadata (1.5 kB)\n",
            "Requirement already satisfied: pydantic<2.12,>=2.4.1 in /usr/local/lib/python3.12/dist-packages (from aiogram) (2.11.7)\n",
            "Requirement already satisfied: typing-extensions<=5.0,>=4.7.0 in /usr/local/lib/python3.12/dist-packages (from aiogram) (4.15.0)\n",
            "Requirement already satisfied: aiohappyeyeballs>=2.5.0 in /usr/local/lib/python3.12/dist-packages (from aiohttp<3.13,>=3.9.0->aiogram) (2.6.1)\n",
            "Requirement already satisfied: aiosignal>=1.4.0 in /usr/local/lib/python3.12/dist-packages (from aiohttp<3.13,>=3.9.0->aiogram) (1.4.0)\n",
            "Requirement already satisfied: attrs>=17.3.0 in /usr/local/lib/python3.12/dist-packages (from aiohttp<3.13,>=3.9.0->aiogram) (25.3.0)\n",
            "Requirement already satisfied: frozenlist>=1.1.1 in /usr/local/lib/python3.12/dist-packages (from aiohttp<3.13,>=3.9.0->aiogram) (1.7.0)\n",
            "Requirement already satisfied: multidict<7.0,>=4.5 in /usr/local/lib/python3.12/dist-packages (from aiohttp<3.13,>=3.9.0->aiogram) (6.6.4)\n",
            "Requirement already satisfied: propcache>=0.2.0 in /usr/local/lib/python3.12/dist-packages (from aiohttp<3.13,>=3.9.0->aiogram) (0.3.2)\n",
            "Requirement already satisfied: yarl<2.0,>=1.17.0 in /usr/local/lib/python3.12/dist-packages (from aiohttp<3.13,>=3.9.0->aiogram) (1.20.1)\n",
            "Requirement already satisfied: annotated-types>=0.6.0 in /usr/local/lib/python3.12/dist-packages (from pydantic<2.12,>=2.4.1->aiogram) (0.7.0)\n",
            "Requirement already satisfied: pydantic-core==2.33.2 in /usr/local/lib/python3.12/dist-packages (from pydantic<2.12,>=2.4.1->aiogram) (2.33.2)\n",
            "Requirement already satisfied: typing-inspection>=0.4.0 in /usr/local/lib/python3.12/dist-packages (from pydantic<2.12,>=2.4.1->aiogram) (0.4.1)\n",
            "Requirement already satisfied: idna>=2.0 in /usr/local/lib/python3.12/dist-packages (from yarl<2.0,>=1.17.0->aiohttp<3.13,>=3.9.0->aiogram) (3.10)\n",
            "Downloading aiogram-3.22.0-py3-none-any.whl (698 kB)\n",
            "\u001b[2K   \u001b[90m━━━━━━━━━━━━━━━━━━━━━━━━━━━━━━━━━━━━━━━━\u001b[0m \u001b[32m698.2/698.2 kB\u001b[0m \u001b[31m22.0 MB/s\u001b[0m eta \u001b[36m0:00:00\u001b[0m\n",
            "\u001b[?25hDownloading magic_filter-1.0.12-py3-none-any.whl (11 kB)\n",
            "Installing collected packages: magic-filter, aiogram\n",
            "Successfully installed aiogram-3.22.0 magic-filter-1.0.12\n",
            "Requirement already satisfied: aiogram in /usr/local/lib/python3.12/dist-packages (3.22.0)\n",
            "Requirement already satisfied: aiofiles<24.2,>=23.2.1 in /usr/local/lib/python3.12/dist-packages (from aiogram) (24.1.0)\n",
            "Requirement already satisfied: aiohttp<3.13,>=3.9.0 in /usr/local/lib/python3.12/dist-packages (from aiogram) (3.12.15)\n",
            "Requirement already satisfied: certifi>=2023.7.22 in /usr/local/lib/python3.12/dist-packages (from aiogram) (2025.8.3)\n",
            "Requirement already satisfied: magic-filter<1.1,>=1.0.12 in /usr/local/lib/python3.12/dist-packages (from aiogram) (1.0.12)\n",
            "Requirement already satisfied: pydantic<2.12,>=2.4.1 in /usr/local/lib/python3.12/dist-packages (from aiogram) (2.11.7)\n",
            "Requirement already satisfied: typing-extensions<=5.0,>=4.7.0 in /usr/local/lib/python3.12/dist-packages (from aiogram) (4.15.0)\n",
            "Requirement already satisfied: aiohappyeyeballs>=2.5.0 in /usr/local/lib/python3.12/dist-packages (from aiohttp<3.13,>=3.9.0->aiogram) (2.6.1)\n",
            "Requirement already satisfied: aiosignal>=1.4.0 in /usr/local/lib/python3.12/dist-packages (from aiohttp<3.13,>=3.9.0->aiogram) (1.4.0)\n",
            "Requirement already satisfied: attrs>=17.3.0 in /usr/local/lib/python3.12/dist-packages (from aiohttp<3.13,>=3.9.0->aiogram) (25.3.0)\n",
            "Requirement already satisfied: frozenlist>=1.1.1 in /usr/local/lib/python3.12/dist-packages (from aiohttp<3.13,>=3.9.0->aiogram) (1.7.0)\n",
            "Requirement already satisfied: multidict<7.0,>=4.5 in /usr/local/lib/python3.12/dist-packages (from aiohttp<3.13,>=3.9.0->aiogram) (6.6.4)\n",
            "Requirement already satisfied: propcache>=0.2.0 in /usr/local/lib/python3.12/dist-packages (from aiohttp<3.13,>=3.9.0->aiogram) (0.3.2)\n",
            "Requirement already satisfied: yarl<2.0,>=1.17.0 in /usr/local/lib/python3.12/dist-packages (from aiohttp<3.13,>=3.9.0->aiogram) (1.20.1)\n",
            "Requirement already satisfied: annotated-types>=0.6.0 in /usr/local/lib/python3.12/dist-packages (from pydantic<2.12,>=2.4.1->aiogram) (0.7.0)\n",
            "Requirement already satisfied: pydantic-core==2.33.2 in /usr/local/lib/python3.12/dist-packages (from pydantic<2.12,>=2.4.1->aiogram) (2.33.2)\n",
            "Requirement already satisfied: typing-inspection>=0.4.0 in /usr/local/lib/python3.12/dist-packages (from pydantic<2.12,>=2.4.1->aiogram) (0.4.1)\n",
            "Requirement already satisfied: idna>=2.0 in /usr/local/lib/python3.12/dist-packages (from yarl<2.0,>=1.17.0->aiohttp<3.13,>=3.9.0->aiogram) (3.10)\n"
          ]
        }
      ]
    },
    {
      "cell_type": "code",
      "source": [
        "!pip install aiosqlite"
      ],
      "metadata": {
        "id": "RMx7byfSgISH",
        "colab": {
          "base_uri": "https://localhost:8080/"
        },
        "outputId": "69261ea6-8697-4ba7-89d3-33f287692aff"
      },
      "execution_count": 3,
      "outputs": [
        {
          "output_type": "stream",
          "name": "stdout",
          "text": [
            "Collecting aiosqlite\n",
            "  Downloading aiosqlite-0.21.0-py3-none-any.whl.metadata (4.3 kB)\n",
            "Requirement already satisfied: typing_extensions>=4.0 in /usr/local/lib/python3.12/dist-packages (from aiosqlite) (4.15.0)\n",
            "Downloading aiosqlite-0.21.0-py3-none-any.whl (15 kB)\n",
            "Installing collected packages: aiosqlite\n",
            "Successfully installed aiosqlite-0.21.0\n"
          ]
        }
      ]
    },
    {
      "cell_type": "code",
      "source": [
        "# Установим библиотеку nest_asyncio\n",
        "!pip install nest_asyncio\n",
        "import nest_asyncio\n",
        "nest_asyncio.apply()"
      ],
      "metadata": {
        "id": "ElhYTEgdgI3O",
        "colab": {
          "base_uri": "https://localhost:8080/"
        },
        "outputId": "c5255bd4-2439-4526-e9b1-1394a820c5e0"
      },
      "execution_count": 4,
      "outputs": [
        {
          "output_type": "stream",
          "name": "stdout",
          "text": [
            "Requirement already satisfied: nest_asyncio in /usr/local/lib/python3.12/dist-packages (1.6.0)\n"
          ]
        }
      ]
    },
    {
      "cell_type": "code",
      "source": [
        "from google.colab import drive\n",
        "drive.mount('/content/drive')\n",
        "folder_path = \"/content/drive/MyDrive/Colab Notebooks/Quizz_bot/\""
      ],
      "metadata": {
        "id": "qC1IFi8WndXy",
        "colab": {
          "base_uri": "https://localhost:8080/"
        },
        "outputId": "d7490a42-9663-4ae1-9832-d3707e8cc6fb"
      },
      "execution_count": 5,
      "outputs": [
        {
          "output_type": "stream",
          "name": "stdout",
          "text": [
            "Mounted at /content/drive\n"
          ]
        }
      ]
    },
    {
      "cell_type": "code",
      "source": [
        "import sys\n",
        "sys.path.append('/content/drive/MyDrive/Colab Notebooks/Quizz_bot')"
      ],
      "metadata": {
        "id": "Inuot1_DolJ_"
      },
      "execution_count": 6,
      "outputs": []
    },
    {
      "cell_type": "code",
      "source": [
        "%run \"/content/drive/MyDrive/Colab Notebooks/Quizz_bot/config.ipynb\"\n",
        "%run \"/content/drive/MyDrive/Colab Notebooks/Quizz_bot/db.ipynb\"\n",
        "%run \"/content/drive/MyDrive/Colab Notebooks/Quizz_bot/questions.ipynb\"\n"
      ],
      "metadata": {
        "id": "m47BP7i9i7Dj",
        "colab": {
          "base_uri": "https://localhost:8080/"
        },
        "outputId": "6d49411e-e2a8-443d-a979-edbc2c416da7"
      },
      "execution_count": 7,
      "outputs": [
        {
          "output_type": "stream",
          "name": "stdout",
          "text": [
            "Drive already mounted at /content/drive; to attempt to forcibly remount, call drive.mount(\"/content/drive\", force_remount=True).\n",
            "Requirement already satisfied: aiosqlite in /usr/local/lib/python3.12/dist-packages (0.21.0)\n",
            "Requirement already satisfied: typing_extensions>=4.0 in /usr/local/lib/python3.12/dist-packages (from aiosqlite) (4.15.0)\n"
          ]
        }
      ]
    },
    {
      "cell_type": "code",
      "source": [
        "import aiosqlite\n",
        "\n",
        "async def check_table_structure():\n",
        "    async with aiosqlite.connect(DB_NAME) as db:\n",
        "        # Выполнение PRAGMA для получения информации о таблице\n",
        "        async with db.execute('PRAGMA table_info(quiz_state)') as cursor:\n",
        "            columns = await cursor.fetchall()  # Получаем все данные из результата запроса\n",
        "            if columns:\n",
        "                print(\"Структура таблицы:\")\n",
        "                for column in columns:\n",
        "                    print(f\"Column ID: {column[0]}, Name: {column[1]}, Type: {column[2]}, Not Null: {column[3]}, Default: {column[4]}, Primary Key: {column[5]}\")\n",
        "            else:\n",
        "                print(\"Таблица не существует или ошибка в названии таблицы.\")\n",
        "async def add_score_column():\n",
        "    async with aiosqlite.connect(DB_NAME) as db:\n",
        "        await db.execute('''\n",
        "        ALTER TABLE quiz_state ADD COLUMN score INTEGER DEFAULT 0\n",
        "        ''')\n",
        "        await db.commit()\n",
        "\n"
      ],
      "metadata": {
        "id": "-vHs42BP81tZ"
      },
      "execution_count": 8,
      "outputs": []
    },
    {
      "cell_type": "code",
      "source": [
        "async def main():\n",
        "    await check_table_structure()\n",
        "\n",
        "if __name__ == \"__main__\":\n",
        "    import asyncio\n",
        "    asyncio.run(main())\n"
      ],
      "metadata": {
        "id": "BAAKvHMo9QLh",
        "colab": {
          "base_uri": "https://localhost:8080/"
        },
        "outputId": "29a86b39-8b5c-463c-93c9-02b97e5714ab"
      },
      "execution_count": 9,
      "outputs": [
        {
          "output_type": "stream",
          "name": "stdout",
          "text": [
            "Таблица не существует или ошибка в названии таблицы.\n"
          ]
        }
      ]
    },
    {
      "cell_type": "code",
      "execution_count": 10,
      "metadata": {
        "id": "YY6ThyX7fVAP",
        "colab": {
          "base_uri": "https://localhost:8080/"
        },
        "outputId": "9c11177f-1b71-44d2-dab3-ea4c356a29d8"
      },
      "outputs": [
        {
          "metadata": {
            "tags": null
          },
          "name": "stderr",
          "output_type": "stream",
          "text": [
            "2025-09-02 12:15:42,555 [INFO] aiogram.dispatcher: Start polling\n",
            "2025-09-02 12:15:42,862 [INFO] aiogram.dispatcher: Run polling for bot @miziquizzy_bot id=8325122124 - 'Quizz bot'\n",
            "2025-09-02 12:15:50,874 [INFO] aiogram.event: Update id=244226246 is handled. Duration 478 ms by bot id=8325122124\n"
          ]
        },
        {
          "metadata": {
            "tags": null
          },
          "name": "stdout",
          "output_type": "stream",
          "text": [
            "Updating score for user 1402296267 to 0\n",
            "Updating score for user 1402296267 to 1\n"
          ]
        },
        {
          "metadata": {
            "tags": null
          },
          "name": "stderr",
          "output_type": "stream",
          "text": [
            "2025-09-02 12:15:55,452 [INFO] aiogram.event: Update id=244226247 is handled. Duration 2541 ms by bot id=8325122124\n"
          ]
        },
        {
          "metadata": {
            "tags": null
          },
          "name": "stdout",
          "output_type": "stream",
          "text": [
            "Updating score for user 1402296267 to 2\n"
          ]
        },
        {
          "metadata": {
            "tags": null
          },
          "name": "stderr",
          "output_type": "stream",
          "text": [
            "2025-09-02 12:15:59,284 [INFO] aiogram.event: Update id=244226248 is handled. Duration 2543 ms by bot id=8325122124\n"
          ]
        },
        {
          "metadata": {
            "tags": null
          },
          "name": "stdout",
          "output_type": "stream",
          "text": [
            "Updating score for user 1402296267 to 0\n"
          ]
        },
        {
          "metadata": {
            "tags": null
          },
          "name": "stderr",
          "output_type": "stream",
          "text": [
            "2025-09-02 12:16:01,851 [INFO] aiogram.event: Update id=244226249 is handled. Duration 465 ms by bot id=8325122124\n"
          ]
        },
        {
          "metadata": {
            "tags": null
          },
          "name": "stdout",
          "output_type": "stream",
          "text": [
            "Updating score for user 1402296267 to 1\n"
          ]
        },
        {
          "metadata": {
            "tags": null
          },
          "name": "stderr",
          "output_type": "stream",
          "text": [
            "2025-09-02 12:16:06,967 [INFO] aiogram.event: Update id=244226250 is handled. Duration 2583 ms by bot id=8325122124\n"
          ]
        },
        {
          "metadata": {
            "tags": null
          },
          "name": "stdout",
          "output_type": "stream",
          "text": [
            "Updating score for user 1402296267 to 2\n"
          ]
        },
        {
          "metadata": {
            "tags": null
          },
          "name": "stderr",
          "output_type": "stream",
          "text": [
            "2025-09-02 12:16:10,636 [INFO] aiogram.event: Update id=244226251 is handled. Duration 2619 ms by bot id=8325122124\n"
          ]
        },
        {
          "metadata": {
            "tags": null
          },
          "name": "stdout",
          "output_type": "stream",
          "text": [
            "Updating score for user 1402296267 to 3\n"
          ]
        },
        {
          "metadata": {
            "tags": null
          },
          "name": "stderr",
          "output_type": "stream",
          "text": [
            "2025-09-02 12:16:14,635 [INFO] aiogram.event: Update id=244226252 is handled. Duration 2772 ms by bot id=8325122124\n",
            "2025-09-02 12:16:18,081 [INFO] aiogram.event: Update id=244226253 is handled. Duration 2375 ms by bot id=8325122124\n"
          ]
        },
        {
          "metadata": {
            "tags": null
          },
          "name": "stdout",
          "output_type": "stream",
          "text": [
            "Updating score for user 1402296267 to 4\n"
          ]
        },
        {
          "metadata": {
            "tags": null
          },
          "name": "stderr",
          "output_type": "stream",
          "text": [
            "2025-09-02 12:16:21,569 [INFO] aiogram.event: Update id=244226254 is handled. Duration 2526 ms by bot id=8325122124\n",
            "2025-09-02 12:16:24,926 [INFO] aiogram.event: Update id=244226255 is handled. Duration 2389 ms by bot id=8325122124\n",
            "2025-09-02 12:16:28,092 [INFO] aiogram.event: Update id=244226256 is handled. Duration 2390 ms by bot id=8325122124\n",
            "2025-09-02 12:16:31,444 [INFO] aiogram.event: Update id=244226257 is handled. Duration 2555 ms by bot id=8325122124\n",
            "2025-09-02 12:16:34,792 [INFO] aiogram.event: Update id=244226258 is handled. Duration 2379 ms by bot id=8325122124\n",
            "2025-09-02 12:16:39,348 [INFO] aiogram.event: Update id=244226259 is handled. Duration 3188 ms by bot id=8325122124\n",
            "2025-09-02 12:16:41,227 [INFO] aiogram.event: Update id=244226260 is handled. Duration 258 ms by bot id=8325122124\n"
          ]
        },
        {
          "metadata": {
            "tags": null
          },
          "name": "stdout",
          "output_type": "stream",
          "text": [
            "Updating score for user 1402296267 to 0\n",
            "Updating score for user 1402296267 to 1\n"
          ]
        },
        {
          "metadata": {
            "tags": null
          },
          "name": "stderr",
          "output_type": "stream",
          "text": [
            "2025-09-02 12:16:45,755 [INFO] aiogram.event: Update id=244226261 is handled. Duration 2768 ms by bot id=8325122124\n"
          ]
        },
        {
          "metadata": {
            "tags": null
          },
          "name": "stdout",
          "output_type": "stream",
          "text": [
            "Updating score for user 1402296267 to 0\n"
          ]
        },
        {
          "metadata": {
            "tags": null
          },
          "name": "stderr",
          "output_type": "stream",
          "text": [
            "2025-09-02 12:17:59,706 [INFO] aiogram.event: Update id=244226262 is handled. Duration 454 ms by bot id=8325122124\n"
          ]
        },
        {
          "metadata": {
            "tags": null
          },
          "name": "stdout",
          "output_type": "stream",
          "text": [
            "Updating score for user 1402296267 to 1\n"
          ]
        },
        {
          "metadata": {
            "tags": null
          },
          "name": "stderr",
          "output_type": "stream",
          "text": [
            "2025-09-02 12:18:03,274 [INFO] aiogram.event: Update id=244226264 is handled. Duration 282 ms by bot id=8325122124\n"
          ]
        },
        {
          "metadata": {
            "tags": null
          },
          "name": "stdout",
          "output_type": "stream",
          "text": [
            "Updating score for user 1402296267 to 0\n"
          ]
        },
        {
          "metadata": {
            "tags": null
          },
          "name": "stderr",
          "output_type": "stream",
          "text": [
            "2025-09-02 12:18:03,539 [INFO] aiogram.event: Update id=244226263 is handled. Duration 2656 ms by bot id=8325122124\n",
            "2025-09-02 12:18:05,665 [INFO] aiogram.event: Update id=244226265 is handled. Duration 343 ms by bot id=8325122124\n"
          ]
        },
        {
          "metadata": {
            "tags": null
          },
          "name": "stdout",
          "output_type": "stream",
          "text": [
            "Updating score for user 1402296267 to 0\n"
          ]
        },
        {
          "metadata": {
            "tags": null
          },
          "name": "stderr",
          "output_type": "stream",
          "text": [
            "2025-09-02 12:18:09,366 [INFO] aiogram.event: Update id=244226266 is handled. Duration 2381 ms by bot id=8325122124\n",
            "2025-09-02 12:18:13,112 [INFO] aiogram.event: Update id=244226267 is handled. Duration 349 ms by bot id=8325122124\n"
          ]
        },
        {
          "metadata": {
            "tags": null
          },
          "name": "stdout",
          "output_type": "stream",
          "text": [
            "Updating score for user 1402296267 to 0\n"
          ]
        },
        {
          "metadata": {
            "tags": null
          },
          "name": "stderr",
          "output_type": "stream",
          "text": [
            "2025-09-02 12:18:17,222 [INFO] aiogram.event: Update id=244226268 is handled. Duration 2410 ms by bot id=8325122124\n",
            "2025-09-02 12:24:00,595 [INFO] aiogram.event: Update id=244226269 is handled. Duration 248 ms by bot id=8325122124\n"
          ]
        },
        {
          "metadata": {
            "tags": null
          },
          "name": "stdout",
          "output_type": "stream",
          "text": [
            "Updating score for user 1402296267 to 0\n"
          ]
        },
        {
          "metadata": {
            "tags": null
          },
          "name": "stderr",
          "output_type": "stream",
          "text": [
            "2025-09-02 12:26:05,701 [INFO] aiogram.event: Update id=244226270 is handled. Duration 112 ms by bot id=8325122124\n",
            "2025-09-02 12:26:09,509 [INFO] aiogram.event: Update id=244226271 is handled. Duration 245 ms by bot id=8325122124\n"
          ]
        },
        {
          "metadata": {
            "tags": null
          },
          "name": "stdout",
          "output_type": "stream",
          "text": [
            "Updating score for user 5943568266 to 0\n"
          ]
        },
        {
          "metadata": {
            "tags": null
          },
          "name": "stderr",
          "output_type": "stream",
          "text": [
            "2025-09-02 12:26:16,625 [INFO] aiogram.event: Update id=244226272 is handled. Duration 2470 ms by bot id=8325122124\n"
          ]
        },
        {
          "metadata": {
            "tags": null
          },
          "name": "stdout",
          "output_type": "stream",
          "text": [
            "Updating score for user 5943568266 to 1\n"
          ]
        },
        {
          "metadata": {
            "tags": null
          },
          "name": "stderr",
          "output_type": "stream",
          "text": [
            "2025-09-02 12:26:30,043 [INFO] aiogram.event: Update id=244226273 is handled. Duration 2611 ms by bot id=8325122124\n",
            "2025-09-02 12:26:37,147 [INFO] aiogram.event: Update id=244226274 is handled. Duration 2424 ms by bot id=8325122124\n",
            "2025-09-02 12:26:54,761 [INFO] aiogram.event: Update id=244226275 is handled. Duration 2340 ms by bot id=8325122124\n",
            "2025-09-02 12:26:58,597 [INFO] aiogram.event: Update id=244226276 is handled. Duration 2503 ms by bot id=8325122124\n"
          ]
        },
        {
          "metadata": {
            "tags": null
          },
          "name": "stdout",
          "output_type": "stream",
          "text": [
            "Updating score for user 5943568266 to 2\n"
          ]
        },
        {
          "metadata": {
            "tags": null
          },
          "name": "stderr",
          "output_type": "stream",
          "text": [
            "2025-09-02 12:27:03,440 [INFO] aiogram.event: Update id=244226277 is handled. Duration 2495 ms by bot id=8325122124\n",
            "2025-09-02 12:27:07,094 [INFO] aiogram.event: Update id=244226278 is handled. Duration 2486 ms by bot id=8325122124\n",
            "2025-09-02 12:27:11,026 [INFO] aiogram.event: Update id=244226279 is handled. Duration 2443 ms by bot id=8325122124\n",
            "2025-09-02 12:27:14,865 [INFO] aiogram.event: Update id=244226280 is handled. Duration 2534 ms by bot id=8325122124\n",
            "2025-09-02 12:27:18,616 [INFO] aiogram.event: Update id=244226281 is handled. Duration 2586 ms by bot id=8325122124\n"
          ]
        },
        {
          "metadata": {
            "tags": null
          },
          "name": "stdout",
          "output_type": "stream",
          "text": [
            "Updating score for user 5943568266 to 0\n"
          ]
        },
        {
          "metadata": {
            "tags": null
          },
          "name": "stderr",
          "output_type": "stream",
          "text": [
            "2025-09-02 12:27:25,107 [INFO] aiogram.event: Update id=244226282 is handled. Duration 435 ms by bot id=8325122124\n"
          ]
        },
        {
          "metadata": {
            "tags": null
          },
          "name": "stdout",
          "output_type": "stream",
          "text": [
            "Updating score for user 5943568266 to 1\n",
            "Updating score for user 5943568266 to 2\n"
          ]
        },
        {
          "metadata": {
            "tags": null
          },
          "name": "stderr",
          "output_type": "stream",
          "text": [
            "2025-09-02 12:27:30,472 [INFO] aiogram.event: Update id=244226283 is handled. Duration 2700 ms by bot id=8325122124\n",
            "2025-09-02 12:27:30,871 [INFO] aiogram.event: Update id=244226284 is handled. Duration 2726 ms by bot id=8325122124\n"
          ]
        },
        {
          "metadata": {
            "tags": null
          },
          "name": "stdout",
          "output_type": "stream",
          "text": [
            "Updating score for user 5943568266 to 3\n"
          ]
        },
        {
          "metadata": {
            "tags": null
          },
          "name": "stderr",
          "output_type": "stream",
          "text": [
            "2025-09-02 12:27:37,742 [INFO] aiogram.event: Update id=244226285 is handled. Duration 2514 ms by bot id=8325122124\n"
          ]
        },
        {
          "metadata": {
            "tags": null
          },
          "name": "stdout",
          "output_type": "stream",
          "text": [
            "Updating score for user 5943568266 to 4\n"
          ]
        },
        {
          "metadata": {
            "tags": null
          },
          "name": "stderr",
          "output_type": "stream",
          "text": [
            "2025-09-02 12:27:42,333 [INFO] aiogram.event: Update id=244226286 is handled. Duration 2723 ms by bot id=8325122124\n"
          ]
        },
        {
          "metadata": {
            "tags": null
          },
          "name": "stdout",
          "output_type": "stream",
          "text": [
            "Updating score for user 5943568266 to 5\n"
          ]
        },
        {
          "metadata": {
            "tags": null
          },
          "name": "stderr",
          "output_type": "stream",
          "text": [
            "2025-09-02 12:27:48,510 [INFO] aiogram.event: Update id=244226287 is handled. Duration 2695 ms by bot id=8325122124\n"
          ]
        },
        {
          "metadata": {
            "tags": null
          },
          "name": "stdout",
          "output_type": "stream",
          "text": [
            "Updating score for user 5943568266 to 6\n"
          ]
        },
        {
          "metadata": {
            "tags": null
          },
          "name": "stderr",
          "output_type": "stream",
          "text": [
            "2025-09-02 12:27:53,910 [INFO] aiogram.event: Update id=244226288 is handled. Duration 2636 ms by bot id=8325122124\n"
          ]
        },
        {
          "metadata": {
            "tags": null
          },
          "name": "stdout",
          "output_type": "stream",
          "text": [
            "Updating score for user 5943568266 to 7\n"
          ]
        },
        {
          "metadata": {
            "tags": null
          },
          "name": "stderr",
          "output_type": "stream",
          "text": [
            "2025-09-02 12:27:59,510 [INFO] aiogram.event: Update id=244226289 is handled. Duration 2565 ms by bot id=8325122124\n"
          ]
        },
        {
          "metadata": {
            "tags": null
          },
          "name": "stdout",
          "output_type": "stream",
          "text": [
            "Updating score for user 5943568266 to 8\n"
          ]
        },
        {
          "metadata": {
            "tags": null
          },
          "name": "stderr",
          "output_type": "stream",
          "text": [
            "2025-09-02 12:28:04,929 [INFO] aiogram.event: Update id=244226290 is handled. Duration 2499 ms by bot id=8325122124\n"
          ]
        },
        {
          "metadata": {
            "tags": null
          },
          "name": "stdout",
          "output_type": "stream",
          "text": [
            "Updating score for user 5943568266 to 9\n"
          ]
        },
        {
          "metadata": {
            "tags": null
          },
          "name": "stderr",
          "output_type": "stream",
          "text": [
            "2025-09-02 12:28:10,693 [INFO] aiogram.event: Update id=244226291 is handled. Duration 2745 ms by bot id=8325122124\n",
            "2025-09-02 12:28:15,862 [INFO] aiogram.event: Update id=244226292 is handled. Duration 2357 ms by bot id=8325122124\n"
          ]
        },
        {
          "metadata": {
            "tags": null
          },
          "name": "stdout",
          "output_type": "stream",
          "text": [
            "Updating score for user 5943568266 to 10\n"
          ]
        },
        {
          "metadata": {
            "tags": null
          },
          "name": "stderr",
          "output_type": "stream",
          "text": [
            "2025-09-02 12:28:25,629 [INFO] aiogram.event: Update id=244226293 is handled. Duration 2816 ms by bot id=8325122124\n"
          ]
        },
        {
          "metadata": {
            "tags": null
          },
          "name": "stdout",
          "output_type": "stream",
          "text": [
            "Updating score for user 5943568266 to 0\n"
          ]
        },
        {
          "metadata": {
            "tags": null
          },
          "name": "stderr",
          "output_type": "stream",
          "text": [
            "2025-09-02 12:28:34,664 [INFO] aiogram.event: Update id=244226294 is handled. Duration 384 ms by bot id=8325122124\n"
          ]
        },
        {
          "metadata": {
            "tags": null
          },
          "name": "stdout",
          "output_type": "stream",
          "text": [
            "Updating score for user 5943568266 to 1\n"
          ]
        },
        {
          "metadata": {
            "tags": null
          },
          "name": "stderr",
          "output_type": "stream",
          "text": [
            "2025-09-02 12:28:44,661 [INFO] aiogram.event: Update id=244226295 is handled. Duration 2553 ms by bot id=8325122124\n"
          ]
        },
        {
          "metadata": {
            "tags": null
          },
          "name": "stdout",
          "output_type": "stream",
          "text": [
            "Updating score for user 5943568266 to 2\n"
          ]
        },
        {
          "metadata": {
            "tags": null
          },
          "name": "stderr",
          "output_type": "stream",
          "text": [
            "2025-09-02 12:28:48,622 [INFO] aiogram.event: Update id=244226296 is handled. Duration 2633 ms by bot id=8325122124\n"
          ]
        },
        {
          "metadata": {
            "tags": null
          },
          "name": "stdout",
          "output_type": "stream",
          "text": [
            "Updating score for user 5943568266 to 3\n"
          ]
        },
        {
          "metadata": {
            "tags": null
          },
          "name": "stderr",
          "output_type": "stream",
          "text": [
            "2025-09-02 12:28:52,713 [INFO] aiogram.event: Update id=244226297 is handled. Duration 2621 ms by bot id=8325122124\n"
          ]
        },
        {
          "metadata": {
            "tags": null
          },
          "name": "stdout",
          "output_type": "stream",
          "text": [
            "Updating score for user 5943568266 to 4\n"
          ]
        },
        {
          "metadata": {
            "tags": null
          },
          "name": "stderr",
          "output_type": "stream",
          "text": [
            "2025-09-02 12:29:02,522 [INFO] aiogram.event: Update id=244226298 is handled. Duration 2609 ms by bot id=8325122124\n"
          ]
        },
        {
          "metadata": {
            "tags": null
          },
          "name": "stdout",
          "output_type": "stream",
          "text": [
            "Updating score for user 5943568266 to 5\n"
          ]
        },
        {
          "metadata": {
            "tags": null
          },
          "name": "stderr",
          "output_type": "stream",
          "text": [
            "2025-09-02 12:29:07,625 [INFO] aiogram.event: Update id=244226299 is handled. Duration 2551 ms by bot id=8325122124\n"
          ]
        },
        {
          "metadata": {
            "tags": null
          },
          "name": "stdout",
          "output_type": "stream",
          "text": [
            "Updating score for user 5943568266 to 6\n"
          ]
        },
        {
          "metadata": {
            "tags": null
          },
          "name": "stderr",
          "output_type": "stream",
          "text": [
            "2025-09-02 12:29:15,053 [INFO] aiogram.event: Update id=244226300 is handled. Duration 2505 ms by bot id=8325122124\n"
          ]
        },
        {
          "metadata": {
            "tags": null
          },
          "name": "stdout",
          "output_type": "stream",
          "text": [
            "Updating score for user 5943568266 to 7\n"
          ]
        },
        {
          "metadata": {
            "tags": null
          },
          "name": "stderr",
          "output_type": "stream",
          "text": [
            "2025-09-02 12:29:19,365 [INFO] aiogram.event: Update id=244226301 is handled. Duration 2493 ms by bot id=8325122124\n",
            "2025-09-02 12:29:36,258 [INFO] aiogram.event: Update id=244226302 is handled. Duration 2341 ms by bot id=8325122124\n"
          ]
        },
        {
          "metadata": {
            "tags": null
          },
          "name": "stdout",
          "output_type": "stream",
          "text": [
            "Updating score for user 5943568266 to 8\n"
          ]
        },
        {
          "output_type": "stream",
          "name": "stderr",
          "text": [
            "2025-09-02 12:29:41,757 [INFO] aiogram.event: Update id=244226303 is handled. Duration 2592 ms by bot id=8325122124\n",
            "2025-09-02 12:29:46,354 [INFO] aiogram.event: Update id=244226304 is handled. Duration 2594 ms by bot id=8325122124\n",
            "2025-09-02 12:32:20,962 [WARNING] aiogram.dispatcher: Received SIGINT signal\n",
            "2025-09-02 12:32:20,964 [INFO] aiogram.dispatcher: Polling stopped for bot @miziquizzy_bot id=8325122124 - 'Quizz bot'\n",
            "2025-09-02 12:32:20,965 [INFO] aiogram.dispatcher: Polling stopped\n"
          ]
        }
      ],
      "source": [
        "import asyncio\n",
        "import logging\n",
        "from aiogram import Bot, Dispatcher, types\n",
        "from aiogram.filters.command import Command\n",
        "from aiogram.utils.keyboard import InlineKeyboardBuilder, ReplyKeyboardBuilder\n",
        "from aiogram import F\n",
        "\n",
        "logging.basicConfig(\n",
        "    level=logging.INFO,\n",
        "    format=\"%(asctime)s [%(levelname)s] %(name)s: %(message)s\",\n",
        "    force=True\n",
        ")\n",
        "\n",
        "\n",
        "# Объект бота\n",
        "bot = Bot(token=API_TOKEN)\n",
        "# Диспетчер\n",
        "dp = Dispatcher()\n",
        "\n",
        "def generate_options_keyboard(answer_options, right_answer):\n",
        "    builder = InlineKeyboardBuilder()\n",
        "    for i, option in enumerate(answer_options):\n",
        "        # Используем индекс для callback_data\n",
        "        callback_data = f\"answer_{i}\"  # Только индекс ответа\n",
        "        builder.add(types.InlineKeyboardButton(\n",
        "            text=option,\n",
        "            callback_data=callback_data  # Передаем индекс ответа\n",
        "        ))\n",
        "    builder.adjust(1)\n",
        "    return builder.as_markup()\n",
        "\n",
        "@dp.callback_query(F.data)\n",
        "async def answer_callback(callback: types.CallbackQuery):\n",
        "\n",
        "\n",
        "    # Получаем текущий вопрос из базы данных\n",
        "    current_question_index = await get_quiz_index(callback.from_user.id)\n",
        "    correct_option = quiz_data[current_question_index]['correct_option']  # Индекс правильного ответа\n",
        "    answer_index = int(callback.data.split(\"_\")[1])  # Получаем индекс ответа из callback_data\n",
        "\n",
        "    answer = quiz_data[current_question_index]['options'][answer_index]  # Текст выбранного ответа\n",
        "\n",
        "    # Проверяем, правильный ли это ответ\n",
        "    if answer_index == correct_option:\n",
        "        await callback.message.answer(f\"Вы выбрали: {answer} 🤔\")\n",
        "        await asyncio.sleep(1)\n",
        "        await callback.message.answer(\"Правильно! 🎉😊\")\n",
        "        gif_url = 'https://i.pinimg.com/originals/5b/19/c7/5b19c73485c4010b7b05d7b1428c9192.gif'  # Прямая ссылка на файл GIF\n",
        "        await callback.message.answer_animation(gif_url)\n",
        "        current_score = await get_quiz_score(callback.from_user.id)\n",
        "        current_score += 1  # Увеличиваем балл за правильный ответ\n",
        "        await update_score(callback.from_user.id, current_score)\n",
        "        await asyncio.sleep(1)\n",
        "    else:\n",
        "        await callback.message.answer(f\"Вы выбрали: {answer}\")\n",
        "        await asyncio.sleep(1)\n",
        "        correct_answer = quiz_data[current_question_index]['options'][correct_option]\n",
        "        await callback.message.answer(f\"Неправильно. 😭 Правильный ответ: {correct_answer}\")\n",
        "        await asyncio.sleep(1)\n",
        "\n",
        "    # Переходим к следующему вопросу или завершаем квиз\n",
        "    current_question_index += 1\n",
        "    await update_quiz_index(callback.from_user.id, current_question_index)\n",
        "\n",
        "    if current_question_index < len(quiz_data):\n",
        "        await get_question(callback.message, callback.from_user.id)\n",
        "    else:\n",
        "        await callback.message.answer(\"Это был последний вопрос. Квиз завершен!\")\n",
        "        current_score = await get_quiz_score(callback.from_user.id)\n",
        "        await callback.message.answer(f\"Ваш результат: {current_score} \")\n",
        "        gif_url = 'https://i.pinimg.com/originals/5b/19/c7/5b19c73485c4010b7b05d7b1428c9192.gif'  # Прямая ссылка на файл GIF\n",
        "        await callback.message.answer_animation(gif_url)\n",
        "\n",
        "@dp.message(Command(\"start\"))\n",
        "async def cmd_start(message: types.Message):\n",
        "    builder = ReplyKeyboardBuilder()\n",
        "    builder.add(types.KeyboardButton(text=\"Начать игру\"))\n",
        "    await message.answer(\"Добро пожаловать в квиз!\", reply_markup=builder.as_markup(resize_keyboard=True))\n",
        "\n",
        "async def get_question(message, user_id):\n",
        "\n",
        "    current_question_index = await get_quiz_index(user_id)\n",
        "    correct_index = quiz_data[current_question_index]['correct_option']\n",
        "    opts = quiz_data[current_question_index]['options']\n",
        "    kb = generate_options_keyboard(opts, opts[correct_index])\n",
        "    number_of_questions = len(quiz_data)\n",
        "\n",
        "    # Увеличиваем n для следующего вопроса\n",
        "    await message.answer(f\"Вопрос {current_question_index + 1} из {number_of_questions}: {quiz_data[current_question_index]['question']}\", reply_markup=kb)\n",
        "\n",
        "async def new_quiz(message):\n",
        "    user_id = message.from_user.id\n",
        "    current_question_index = 0\n",
        "    await update_score(user_id, 0)\n",
        "    await update_quiz_index(user_id, current_question_index)\n",
        "    await get_question(message, user_id)\n",
        "\n",
        "@dp.message(F.text == \"Начать игру\")\n",
        "@dp.message(Command(\"quiz\"))\n",
        "async def cmd_quiz(message: types.Message):\n",
        "    await message.answer(f\"Давайте начнем квиз!\")\n",
        "    await new_quiz(message)\n",
        "\n",
        "async def main():\n",
        "    await create_table()\n",
        "    await dp.start_polling(bot)\n",
        "\n",
        "if __name__ == \"__main__\":\n",
        "    asyncio.run(main())\n"
      ]
    },
    {
      "cell_type": "code",
      "source": [],
      "metadata": {
        "id": "HLISFkgT-1F2"
      },
      "execution_count": 10,
      "outputs": []
    }
  ]
}