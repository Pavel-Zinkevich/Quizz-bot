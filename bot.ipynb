{
  "nbformat": 4,
  "nbformat_minor": 0,
  "metadata": {
    "colab": {
      "provenance": [],
      "gpuType": "T4",
      "authorship_tag": "ABX9TyPpnyC+gJ5+9YwTCyyGArYR",
      "include_colab_link": true
    },
    "kernelspec": {
      "name": "python3",
      "display_name": "Python 3"
    },
    "language_info": {
      "name": "python"
    },
    "accelerator": "GPU"
  },
  "cells": [
    {
      "cell_type": "markdown",
      "metadata": {
        "id": "view-in-github",
        "colab_type": "text"
      },
      "source": [
        "<a href=\"https://colab.research.google.com/github/Pavel-Zinkevich/Quizz-bot/blob/main/bot.ipynb\" target=\"_parent\"><img src=\"https://colab.research.google.com/assets/colab-badge.svg\" alt=\"Open In Colab\"/></a>"
      ]
    },
    {
      "cell_type": "code",
      "source": [
        "!pip install aiogram"
      ],
      "metadata": {
        "id": "Xl5yCpP1gGeJ"
      },
      "execution_count": null,
      "outputs": []
    },
    {
      "cell_type": "code",
      "source": [
        "!pip install aiosqlite"
      ],
      "metadata": {
        "id": "RMx7byfSgISH"
      },
      "execution_count": null,
      "outputs": []
    },
    {
      "cell_type": "code",
      "source": [
        "# Установим библиотеку nest_asyncio\n",
        "!pip install nest_asyncio\n",
        "import nest_asyncio\n",
        "nest_asyncio.apply()"
      ],
      "metadata": {
        "id": "ElhYTEgdgI3O"
      },
      "execution_count": null,
      "outputs": []
    },
    {
      "cell_type": "code",
      "source": [
        "from google.colab import drive\n",
        "drive.mount('/content/drive')\n",
        "folder_path = \"/content/drive/MyDrive/Colab Notebooks/Quizz_bot/\""
      ],
      "metadata": {
        "id": "qC1IFi8WndXy"
      },
      "execution_count": null,
      "outputs": []
    },
    {
      "cell_type": "code",
      "source": [
        "import sys\n",
        "sys.path.append('/content/drive/MyDrive/Colab Notebooks/Quizz_bot')"
      ],
      "metadata": {
        "id": "Inuot1_DolJ_"
      },
      "execution_count": null,
      "outputs": []
    },
    {
      "cell_type": "code",
      "source": [
        "%run \"/content/drive/MyDrive/Colab Notebooks/Quizz_bot/config.ipynb\"\n",
        "%run \"/content/drive/MyDrive/Colab Notebooks/Quizz_bot/db.ipynb\"\n",
        "%run \"/content/drive/MyDrive/Colab Notebooks/Quizz_bot/questions.ipynb\"\n"
      ],
      "metadata": {
        "id": "m47BP7i9i7Dj"
      },
      "execution_count": null,
      "outputs": []
    },
    {
      "cell_type": "code",
      "source": [
        "import aiosqlite\n",
        "\n",
        "async def check_table_structure():\n",
        "    async with aiosqlite.connect(DB_NAME) as db:\n",
        "        # Выполнение PRAGMA для получения информации о таблице\n",
        "        async with db.execute('PRAGMA table_info(quiz_state)') as cursor:\n",
        "            columns = await cursor.fetchall()  # Получаем все данные из результата запроса\n",
        "            if columns:\n",
        "                print(\"Структура таблицы:\")\n",
        "                for column in columns:\n",
        "                    print(f\"Column ID: {column[0]}, Name: {column[1]}, Type: {column[2]}, Not Null: {column[3]}, Default: {column[4]}, Primary Key: {column[5]}\")\n",
        "            else:\n",
        "                print(\"Таблица не существует или ошибка в названии таблицы.\")\n",
        "async def add_score_column():\n",
        "    async with aiosqlite.connect(DB_NAME) as db:\n",
        "        await db.execute('''\n",
        "        ALTER TABLE quiz_state ADD COLUMN score INTEGER DEFAULT 0\n",
        "        ''')\n",
        "        await db.commit()\n",
        "\n"
      ],
      "metadata": {
        "id": "-vHs42BP81tZ"
      },
      "execution_count": null,
      "outputs": []
    },
    {
      "cell_type": "code",
      "source": [
        "async def main():\n",
        "    await check_table_structure()\n",
        "\n",
        "if __name__ == \"__main__\":\n",
        "    import asyncio\n",
        "    asyncio.run(main())\n"
      ],
      "metadata": {
        "id": "BAAKvHMo9QLh"
      },
      "execution_count": null,
      "outputs": []
    },
    {
      "cell_type": "code",
      "execution_count": null,
      "metadata": {
        "id": "YY6ThyX7fVAP"
      },
      "outputs": [],
      "source": [
        "import asyncio\n",
        "import logging\n",
        "from aiogram import Bot, Dispatcher, types\n",
        "from aiogram.filters.command import Command\n",
        "from aiogram.utils.keyboard import InlineKeyboardBuilder, ReplyKeyboardBuilder\n",
        "from aiogram import F\n",
        "\n",
        "logging.basicConfig(\n",
        "    level=logging.INFO,\n",
        "    format=\"%(asctime)s [%(levelname)s] %(name)s: %(message)s\",\n",
        "    force=True\n",
        ")\n",
        "\n",
        "\n",
        "# Объект бота\n",
        "bot = Bot(token=API_TOKEN)\n",
        "# Диспетчер\n",
        "dp = Dispatcher()\n",
        "\n",
        "def generate_options_keyboard(answer_options, right_answer):\n",
        "    builder = InlineKeyboardBuilder()\n",
        "    for i, option in enumerate(answer_options):\n",
        "        # Используем индекс для callback_data\n",
        "        callback_data = f\"answer_{i}\"  # Только индекс ответа\n",
        "        builder.add(types.InlineKeyboardButton(\n",
        "            text=option,\n",
        "            callback_data=callback_data  # Передаем индекс ответа\n",
        "        ))\n",
        "    builder.adjust(1)\n",
        "    return builder.as_markup()\n",
        "\n",
        "@dp.callback_query(F.data)\n",
        "async def answer_callback(callback: types.CallbackQuery):\n",
        "\n",
        "\n",
        "    # Получаем текущий вопрос из базы данных\n",
        "    current_question_index = await get_quiz_index(callback.from_user.id)\n",
        "    correct_option = quiz_data[current_question_index]['correct_option']  # Индекс правильного ответа\n",
        "    answer_index = int(callback.data.split(\"_\")[1])  # Получаем индекс ответа из callback_data\n",
        "\n",
        "    answer = quiz_data[current_question_index]['options'][answer_index]  # Текст выбранного ответа\n",
        "\n",
        "    # Проверяем, правильный ли это ответ\n",
        "    if answer_index == correct_option:\n",
        "        await callback.message.answer(f\"Вы выбрали: {answer} 🤔\")\n",
        "        await asyncio.sleep(1)\n",
        "        await callback.message.answer(\"Правильно! 🎉😊\")\n",
        "        gif_url = 'https://i.pinimg.com/originals/5b/19/c7/5b19c73485c4010b7b05d7b1428c9192.gif'  # Прямая ссылка на файл GIF\n",
        "        await callback.message.answer_animation(gif_url)\n",
        "        current_score = await get_quiz_score(callback.from_user.id)\n",
        "        current_score += 1  # Увеличиваем балл за правильный ответ\n",
        "        await update_score(callback.from_user.id, current_score)\n",
        "        await asyncio.sleep(1)\n",
        "    else:\n",
        "        await callback.message.answer(f\"Вы выбрали: {answer}\")\n",
        "        await asyncio.sleep(1)\n",
        "        correct_answer = quiz_data[current_question_index]['options'][correct_option]\n",
        "        await callback.message.answer(f\"Неправильно. 😭 Правильный ответ: {correct_answer}\")\n",
        "        await asyncio.sleep(1)\n",
        "\n",
        "    # Переходим к следующему вопросу или завершаем квиз\n",
        "    current_question_index += 1\n",
        "    await update_quiz_index(callback.from_user.id, current_question_index)\n",
        "\n",
        "    if current_question_index < len(quiz_data):\n",
        "        await get_question(callback.message, callback.from_user.id)\n",
        "    else:\n",
        "        await callback.message.answer(\"Это был последний вопрос. Квиз завершен!\")\n",
        "        current_score = await get_quiz_score(callback.from_user.id)\n",
        "        await callback.message.answer(f\"Ваш результат: {current_score} \")\n",
        "        gif_url = 'https://i.pinimg.com/originals/5b/19/c7/5b19c73485c4010b7b05d7b1428c9192.gif'  # Прямая ссылка на файл GIF\n",
        "        await callback.message.answer_animation(gif_url)\n",
        "\n",
        "@dp.message(Command(\"start\"))\n",
        "async def cmd_start(message: types.Message):\n",
        "    builder = ReplyKeyboardBuilder()\n",
        "    builder.add(types.KeyboardButton(text=\"Начать игру\"))\n",
        "    await message.answer(\"Добро пожаловать в квиз боби!\", reply_markup=builder.as_markup(resize_keyboard=True))\n",
        "\n",
        "async def get_question(message, user_id):\n",
        "\n",
        "    current_question_index = await get_quiz_index(user_id)\n",
        "    correct_index = quiz_data[current_question_index]['correct_option']\n",
        "    opts = quiz_data[current_question_index]['options']\n",
        "    kb = generate_options_keyboard(opts, opts[correct_index])\n",
        "    number_of_questions = len(quiz_data)\n",
        "\n",
        "    # Увеличиваем n для следующего вопроса\n",
        "    await message.answer(f\"Вопрос {current_question_index + 1} из {number_of_questions}: {quiz_data[current_question_index]['question']}\", reply_markup=kb)\n",
        "\n",
        "async def new_quiz(message):\n",
        "    user_id = message.from_user.id\n",
        "    current_question_index = 0\n",
        "    await update_quiz_index(user_id, current_question_index)\n",
        "    await get_question(message, user_id)\n",
        "\n",
        "@dp.message(F.text == \"Начать игру\")\n",
        "@dp.message(Command(\"quiz\"))\n",
        "async def cmd_quiz(message: types.Message):\n",
        "    await message.answer(f\"Давайте начнем квиз!\")\n",
        "    await new_quiz(message)\n",
        "\n",
        "async def main():\n",
        "    await create_table()\n",
        "    await dp.start_polling(bot)\n",
        "\n",
        "if __name__ == \"__main__\":\n",
        "    asyncio.run(main())\n"
      ]
    },
    {
      "cell_type": "code",
      "source": [],
      "metadata": {
        "id": "HLISFkgT-1F2"
      },
      "execution_count": null,
      "outputs": []
    }
  ]
}